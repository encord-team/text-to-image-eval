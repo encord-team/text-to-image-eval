{
  "nbformat": 4,
  "nbformat_minor": 0,
  "metadata": {
    "colab": {
      "provenance": [],
      "collapsed_sections": [
        "SiUa7XX5-h0j"
      ]
    },
    "kernelspec": {
      "name": "python3",
      "display_name": "Python 3"
    },
    "language_info": {
      "name": "python"
    },
    "widgets": {
      "application/vnd.jupyter.widget-state+json": {
        "6ee6455e71584d1c8d2f565847edf733": {
          "model_module": "@jupyter-widgets/controls",
          "model_name": "HBoxModel",
          "model_module_version": "2.0.0",
          "state": {
            "_dom_classes": [],
            "_model_module": "@jupyter-widgets/controls",
            "_model_module_version": "2.0.0",
            "_model_name": "HBoxModel",
            "_view_count": null,
            "_view_module": "@jupyter-widgets/controls",
            "_view_module_version": "2.0.0",
            "_view_name": "HBoxView",
            "box_style": "",
            "children": [
              "IPY_MODEL_70ee2d9b22cd4e95b4b35d0f1057f5f7",
              "IPY_MODEL_17fe49ed491a48979d2c13cdeb82df2a",
              "IPY_MODEL_c5dd946799ba4ebf969ae376168ef29f"
            ],
            "layout": "IPY_MODEL_6b221bad33ad49d0ad4b5b5f3262e53d",
            "tabbable": null,
            "tooltip": null
          }
        },
        "70ee2d9b22cd4e95b4b35d0f1057f5f7": {
          "model_module": "@jupyter-widgets/controls",
          "model_name": "HTMLModel",
          "model_module_version": "2.0.0",
          "state": {
            "_dom_classes": [],
            "_model_module": "@jupyter-widgets/controls",
            "_model_module_version": "2.0.0",
            "_model_name": "HTMLModel",
            "_view_count": null,
            "_view_module": "@jupyter-widgets/controls",
            "_view_module_version": "2.0.0",
            "_view_name": "HTMLView",
            "description": "",
            "description_allow_html": false,
            "layout": "IPY_MODEL_ebb2a6c25b5f484da057a324d013fa89",
            "placeholder": "​",
            "style": "IPY_MODEL_a94b16f53b3244b3b85b82fa42659e97",
            "tabbable": null,
            "tooltip": null,
            "value": "Downloading all data from Encord project `my project`: 100%"
          }
        },
        "17fe49ed491a48979d2c13cdeb82df2a": {
          "model_module": "@jupyter-widgets/controls",
          "model_name": "FloatProgressModel",
          "model_module_version": "2.0.0",
          "state": {
            "_dom_classes": [],
            "_model_module": "@jupyter-widgets/controls",
            "_model_module_version": "2.0.0",
            "_model_name": "FloatProgressModel",
            "_view_count": null,
            "_view_module": "@jupyter-widgets/controls",
            "_view_module_version": "2.0.0",
            "_view_name": "ProgressView",
            "bar_style": "success",
            "description": "",
            "description_allow_html": false,
            "layout": "IPY_MODEL_1ad5f8ff3f494c99a1d1691843d27114",
            "max": 6,
            "min": 0,
            "orientation": "horizontal",
            "style": "IPY_MODEL_1bc025a039d34acea618aeb17c2d4a4d",
            "tabbable": null,
            "tooltip": null,
            "value": 6
          }
        },
        "c5dd946799ba4ebf969ae376168ef29f": {
          "model_module": "@jupyter-widgets/controls",
          "model_name": "HTMLModel",
          "model_module_version": "2.0.0",
          "state": {
            "_dom_classes": [],
            "_model_module": "@jupyter-widgets/controls",
            "_model_module_version": "2.0.0",
            "_model_name": "HTMLModel",
            "_view_count": null,
            "_view_module": "@jupyter-widgets/controls",
            "_view_module_version": "2.0.0",
            "_view_name": "HTMLView",
            "description": "",
            "description_allow_html": false,
            "layout": "IPY_MODEL_d2e1b910f8564f9f96140b07ba2970ba",
            "placeholder": "​",
            "style": "IPY_MODEL_625001f6cc7e4b4bafb3796a25cd4a41",
            "tabbable": null,
            "tooltip": null,
            "value": " 6/6 [00:11&lt;00:00,  1.75s/it]"
          }
        },
        "6b221bad33ad49d0ad4b5b5f3262e53d": {
          "model_module": "@jupyter-widgets/base",
          "model_name": "LayoutModel",
          "model_module_version": "2.0.0",
          "state": {
            "_model_module": "@jupyter-widgets/base",
            "_model_module_version": "2.0.0",
            "_model_name": "LayoutModel",
            "_view_count": null,
            "_view_module": "@jupyter-widgets/base",
            "_view_module_version": "2.0.0",
            "_view_name": "LayoutView",
            "align_content": null,
            "align_items": null,
            "align_self": null,
            "border_bottom": null,
            "border_left": null,
            "border_right": null,
            "border_top": null,
            "bottom": null,
            "display": null,
            "flex": null,
            "flex_flow": null,
            "grid_area": null,
            "grid_auto_columns": null,
            "grid_auto_flow": null,
            "grid_auto_rows": null,
            "grid_column": null,
            "grid_gap": null,
            "grid_row": null,
            "grid_template_areas": null,
            "grid_template_columns": null,
            "grid_template_rows": null,
            "height": null,
            "justify_content": null,
            "justify_items": null,
            "left": null,
            "margin": null,
            "max_height": null,
            "max_width": null,
            "min_height": null,
            "min_width": null,
            "object_fit": null,
            "object_position": null,
            "order": null,
            "overflow": null,
            "padding": null,
            "right": null,
            "top": null,
            "visibility": null,
            "width": null
          }
        },
        "ebb2a6c25b5f484da057a324d013fa89": {
          "model_module": "@jupyter-widgets/base",
          "model_name": "LayoutModel",
          "model_module_version": "2.0.0",
          "state": {
            "_model_module": "@jupyter-widgets/base",
            "_model_module_version": "2.0.0",
            "_model_name": "LayoutModel",
            "_view_count": null,
            "_view_module": "@jupyter-widgets/base",
            "_view_module_version": "2.0.0",
            "_view_name": "LayoutView",
            "align_content": null,
            "align_items": null,
            "align_self": null,
            "border_bottom": null,
            "border_left": null,
            "border_right": null,
            "border_top": null,
            "bottom": null,
            "display": null,
            "flex": null,
            "flex_flow": null,
            "grid_area": null,
            "grid_auto_columns": null,
            "grid_auto_flow": null,
            "grid_auto_rows": null,
            "grid_column": null,
            "grid_gap": null,
            "grid_row": null,
            "grid_template_areas": null,
            "grid_template_columns": null,
            "grid_template_rows": null,
            "height": null,
            "justify_content": null,
            "justify_items": null,
            "left": null,
            "margin": null,
            "max_height": null,
            "max_width": null,
            "min_height": null,
            "min_width": null,
            "object_fit": null,
            "object_position": null,
            "order": null,
            "overflow": null,
            "padding": null,
            "right": null,
            "top": null,
            "visibility": null,
            "width": null
          }
        },
        "a94b16f53b3244b3b85b82fa42659e97": {
          "model_module": "@jupyter-widgets/controls",
          "model_name": "HTMLStyleModel",
          "model_module_version": "2.0.0",
          "state": {
            "_model_module": "@jupyter-widgets/controls",
            "_model_module_version": "2.0.0",
            "_model_name": "HTMLStyleModel",
            "_view_count": null,
            "_view_module": "@jupyter-widgets/base",
            "_view_module_version": "2.0.0",
            "_view_name": "StyleView",
            "background": null,
            "description_width": "",
            "font_size": null,
            "text_color": null
          }
        },
        "1ad5f8ff3f494c99a1d1691843d27114": {
          "model_module": "@jupyter-widgets/base",
          "model_name": "LayoutModel",
          "model_module_version": "2.0.0",
          "state": {
            "_model_module": "@jupyter-widgets/base",
            "_model_module_version": "2.0.0",
            "_model_name": "LayoutModel",
            "_view_count": null,
            "_view_module": "@jupyter-widgets/base",
            "_view_module_version": "2.0.0",
            "_view_name": "LayoutView",
            "align_content": null,
            "align_items": null,
            "align_self": null,
            "border_bottom": null,
            "border_left": null,
            "border_right": null,
            "border_top": null,
            "bottom": null,
            "display": null,
            "flex": null,
            "flex_flow": null,
            "grid_area": null,
            "grid_auto_columns": null,
            "grid_auto_flow": null,
            "grid_auto_rows": null,
            "grid_column": null,
            "grid_gap": null,
            "grid_row": null,
            "grid_template_areas": null,
            "grid_template_columns": null,
            "grid_template_rows": null,
            "height": null,
            "justify_content": null,
            "justify_items": null,
            "left": null,
            "margin": null,
            "max_height": null,
            "max_width": null,
            "min_height": null,
            "min_width": null,
            "object_fit": null,
            "object_position": null,
            "order": null,
            "overflow": null,
            "padding": null,
            "right": null,
            "top": null,
            "visibility": null,
            "width": null
          }
        },
        "1bc025a039d34acea618aeb17c2d4a4d": {
          "model_module": "@jupyter-widgets/controls",
          "model_name": "ProgressStyleModel",
          "model_module_version": "2.0.0",
          "state": {
            "_model_module": "@jupyter-widgets/controls",
            "_model_module_version": "2.0.0",
            "_model_name": "ProgressStyleModel",
            "_view_count": null,
            "_view_module": "@jupyter-widgets/base",
            "_view_module_version": "2.0.0",
            "_view_name": "StyleView",
            "bar_color": null,
            "description_width": ""
          }
        },
        "d2e1b910f8564f9f96140b07ba2970ba": {
          "model_module": "@jupyter-widgets/base",
          "model_name": "LayoutModel",
          "model_module_version": "2.0.0",
          "state": {
            "_model_module": "@jupyter-widgets/base",
            "_model_module_version": "2.0.0",
            "_model_name": "LayoutModel",
            "_view_count": null,
            "_view_module": "@jupyter-widgets/base",
            "_view_module_version": "2.0.0",
            "_view_name": "LayoutView",
            "align_content": null,
            "align_items": null,
            "align_self": null,
            "border_bottom": null,
            "border_left": null,
            "border_right": null,
            "border_top": null,
            "bottom": null,
            "display": null,
            "flex": null,
            "flex_flow": null,
            "grid_area": null,
            "grid_auto_columns": null,
            "grid_auto_flow": null,
            "grid_auto_rows": null,
            "grid_column": null,
            "grid_gap": null,
            "grid_row": null,
            "grid_template_areas": null,
            "grid_template_columns": null,
            "grid_template_rows": null,
            "height": null,
            "justify_content": null,
            "justify_items": null,
            "left": null,
            "margin": null,
            "max_height": null,
            "max_width": null,
            "min_height": null,
            "min_width": null,
            "object_fit": null,
            "object_position": null,
            "order": null,
            "overflow": null,
            "padding": null,
            "right": null,
            "top": null,
            "visibility": null,
            "width": null
          }
        },
        "625001f6cc7e4b4bafb3796a25cd4a41": {
          "model_module": "@jupyter-widgets/controls",
          "model_name": "HTMLStyleModel",
          "model_module_version": "2.0.0",
          "state": {
            "_model_module": "@jupyter-widgets/controls",
            "_model_module_version": "2.0.0",
            "_model_name": "HTMLStyleModel",
            "_view_count": null,
            "_view_module": "@jupyter-widgets/base",
            "_view_module_version": "2.0.0",
            "_view_name": "StyleView",
            "background": null,
            "description_width": "",
            "font_size": null,
            "text_color": null
          }
        }
      }
    }
  },
  "cells": [
    {
      "cell_type": "markdown",
      "source": [
        "<div align=\"center\" style=\"display: flex; justify-content: space-between;\">\n",
        "  <div style=\"flex: 1; padding: 10px;\">\n",
        "    <a href=\"https://github.com/encord-team/text-to-image-eval/actions?query=workflow%3ATests\" target=\"_blank\" style=\"text-decoration:none\"><img src=\"https://github.com/encord-team/text-to-image-eval/actions/workflows/tests.yml/badge.svg?branch=main\"></a>\n",
        "    <a href=\"https://www.python.org/downloads/release/python-3119/\" target=\"_blank\" style=\"text-decoration:none\"><img src=\"https://img.shields.io/badge/python-3.11%2B-blue\" alt=\"Python Versions\"></a>\n",
        "    <a target=\"_blank\" style=\"text-decoration:none\"><img alt=\"PRs Welcome\" src=\"https://img.shields.io/badge/PRs-Welcome-blue\"></a>\n",
        "    <img alt=\"License\" src=\"https://img.shields.io/github/license/encord-team/text-to-image-eval\">\n",
        "  </div>\n",
        "  <div style=\"flex: 1; padding: 10px;\">\n",
        "    <a href=\"https://github.com/encord-team/encord-notebooks\" target=\"_blank\" style=\"text-decoration:none\"><img alt=\"Encord Notebooks\" src=\"https://img.shields.io/badge/Encord_Notebooks-blue?logo=github&label=&labelColor=181717\"></a>\n",
        "    <a href=\"https://join.slack.com/t/encordactive/shared_invite/zt-1hc2vqur9-Fzj1EEAHoqu91sZ0CX0A7Q\" target=\"_blank\" style=\"text-decoration:none\"><img alt=\"Join us on Slack\" src=\"https://img.shields.io/badge/Join_Our_Community-4A154B?label=&logo=slack&logoColor=white\"></a>\n",
        "    <a href=\"https://twitter.com/encord_team\" target=\"_blank\" style=\"text-decoration:none\"><img alt=\"Twitter Follow\" src=\"https://img.shields.io/twitter/follow/encord_team?label=%40encord_team&amp;style=social\"></a>\n",
        "  </div>\n",
        "</div>"
      ],
      "metadata": {
        "id": "7s74cmSEaED7"
      }
    },
    {
      "cell_type": "markdown",
      "source": [
        "<h1 align=\"center\">\n",
        "    <img src=\"https://storage.googleapis.com/docs-media.encord.com/static/img/text-to-image-eval/tti-eval-banner-short.png\" alt=\"tti-eval logo banner\">\n",
        "</h1>"
      ],
      "metadata": {
        "id": "C6f0LzNxUMda"
      }
    },
    {
      "cell_type": "markdown",
      "source": [
        "# 📝 tti-eval | 🗄️ Bring Your Own Dataset From Encord Quickstart\n",
        "\n",
        "Welcome to the *Bring Your Own Dataset From Encord Quickstart* guide for the `tti-eval` tool.\n",
        "This notebook covers how to bring a dataset from Encord to `tti-eval`.\n",
        "\n",
        "In this notebook, you will explore:\n",
        "- How to find the required information of the dataset on the Encord website.\n",
        "- Generating and registering the new dataset definition.\n",
        "- ⭐ Start using your dataset right away.\n",
        "\n",
        "## Overview\n",
        "\n",
        "`tti-eval` is a repository for benchmarking text-to-image models **on your own data**!\n",
        "\n",
        "With this library, you can take an embedding model intended for jointly embedding images and text (like [CLIP](https://huggingface.co/openai/clip-vit-large-patch14-336)) and compute metrics for how well such model performs on classifying your custom dataset.\n",
        "\n",
        "🟡 Prior to continuing, note that the notebook may restart the runtime the first time you run it after installing Python 3.11. This restart is necessary as switching Python versions in Colab requires a runtime restart.\n",
        "\n",
        "> Learn more about 📝 `tti-eval`:\n",
        "> - [🖥️ CLI Quickstart](https://colab.research.google.com/drive/1SsKre_9vQ9SAIQyPFQmbUBXRKzoZv8AH?usp=sharing)\n",
        "> - [🐍 Python Quickstart](https://colab.research.google.com/drive/1DNn5uH6rss8I4BZG4-Y0rayRkRwYXwMu?usp=sharing)\n",
        "> - [🤖 Bring Your Own Model From Hugging Face Quickstart](https://colab.research.google.com/drive/1ZuhBJ5QtH3MKuO-Y5QiiEKoz4BU1Un-8?usp=sharing)\n",
        "> - [GitHub repository](https://github.com/encord-team/text-to-image-eval)"
      ],
      "metadata": {
        "id": "oGIzJpxT8Z27"
      }
    },
    {
      "cell_type": "markdown",
      "source": [
        "## Set up the repo and dependencies"
      ],
      "metadata": {
        "id": "SiUa7XX5-h0j"
      }
    },
    {
      "cell_type": "code",
      "source": [
        "#@title 1. Install and set up Python 3.11 {display-mode: \"form\"}\n",
        "# Credits to JanEricNitschke in https://github.com/pnxenopoulos/awpy/issues/248#issuecomment-1575170156\n",
        "\n",
        "#The code below installs 3.11 (assuming you now have 3.10) and restarts environment, so you can run your cells.\n",
        "import sys #for version checker\n",
        "import os #for restart routine\n",
        "\n",
        "if '3.11' in sys.version:\n",
        "  print('You already have 3.11, nothing to install')\n",
        "elif '3.10' in sys.version:\n",
        "  print(\"Python version is: \", sys.version)\n",
        "\n",
        "  print(\"Printing content of /usr/local/lib/python* to see available versions\")\n",
        "  !ls /usr/local/lib/python*\n",
        "\n",
        "  #install python 3.11 and dev utils\n",
        "  #you may not need all the dev libraries, but I haven't tested which aren't necessary.\n",
        "  !sudo apt-get update -y > /dev/null\n",
        "  !sudo apt-get install python3.11 python3.11-dev python3.11-distutils libpython3.11-dev > /dev/null\n",
        "  !sudo apt-get install python3.11-venv binfmt-support  > /dev/null #recommended in install logs of the command above\n",
        "\n",
        "  #change alternatives\n",
        "  !sudo update-alternatives --install /usr/bin/python3 python3 /usr/bin/python3.10 1 > /dev/null\n",
        "  !sudo update-alternatives --install /usr/bin/python3 python3 /usr/bin/python3.11 2 > /dev/null\n",
        "\n",
        "  # install pip\n",
        "  !curl -sS https://bootstrap.pypa.io/get-pip.py | python3.11  > /dev/null\n",
        "\n",
        "  #install colab's dependencies\n",
        "  !python3 -m pip install ipython==7.9.0 traitlets==5.7.1 jupyter psutil matplotlib setuptools ipython_genutils ipykernel jupyter_console notebook prompt_toolkit httplib2 astor  > /dev/null\n",
        "\n",
        "  #minor cleanup\n",
        "  !sudo apt autoremove > /dev/null\n",
        "\n",
        "  #link to the old google package\n",
        "  !ln -s /usr/local/lib/python3.10/dist-packages/google /usr/local/lib/python3.11/dist-packages/google > /dev/null\n",
        "\n",
        "  #this is just to verify if 3.11 folder was indeed created\n",
        "  print(\"Printing content of /usr/local/lib/python3.11/\")\n",
        "  !ls /usr/local/lib/python3.11/\n",
        "\n",
        "  #restart environment so you don't have to do it manually\n",
        "  os.kill(os.getpid(), 9)\n",
        "else:\n",
        "  print(\"Your out of the box Python is not 3.10, so probably the script will not work, so pls feel free to edit the script to ignore then check and re-run: \", sys.version)"
      ],
      "metadata": {
        "id": "AEFJgXTZxC7v",
        "colab": {
          "base_uri": "https://localhost:8080/"
        },
        "outputId": "f5f1d514-2281-45cb-8523-468e0deb27f0"
      },
      "execution_count": null,
      "outputs": [
        {
          "output_type": "stream",
          "name": "stdout",
          "text": [
            "You already have 3.11, nothing to install\n"
          ]
        }
      ]
    },
    {
      "cell_type": "code",
      "source": [
        "#@title 2. Clone the repo\n",
        "!git clone https://github.com/encord-team/text-to-image-eval.git"
      ],
      "metadata": {
        "id": "0un879841yJK",
        "colab": {
          "base_uri": "https://localhost:8080/"
        },
        "outputId": "e3089aae-dc0a-4395-876d-40349a001b1d"
      },
      "execution_count": null,
      "outputs": [
        {
          "output_type": "stream",
          "name": "stdout",
          "text": [
            "Cloning into 'text-to-image-eval'...\n",
            "remote: Enumerating objects: 813, done.\u001b[K\n",
            "remote: Counting objects: 100% (395/395), done.\u001b[K\n",
            "remote: Compressing objects: 100% (238/238), done.\u001b[K\n",
            "remote: Total 813 (delta 258), reused 189 (delta 156), pack-reused 418\u001b[K\n",
            "Receiving objects: 100% (813/813), 2.02 MiB | 16.40 MiB/s, done.\n",
            "Resolving deltas: 100% (413/413), done.\n"
          ]
        }
      ]
    },
    {
      "cell_type": "code",
      "source": [
        "#@title 3. Install repo dependencies\n",
        "%cd /content/text-to-image-eval/\n",
        "!pip install poetry\n",
        "!poetry config virtualenvs.in-project true # Configure Poetry to create virtual environments in the project folder\n",
        "!poetry add ipykernel # Resolve Colab specific missing dependency\n",
        "!poetry install --no-ansi\n",
        "\n",
        "sys.path.insert(0, '/content/text-to-image-eval/.venv/lib/python3.11/site-packages')"
      ],
      "metadata": {
        "id": "PzGPyyUpw9g3"
      },
      "execution_count": null,
      "outputs": []
    },
    {
      "cell_type": "markdown",
      "source": [
        "## Bring your dataset from Encord"
      ],
      "metadata": {
        "id": "oJHhMjb2-PRZ"
      }
    },
    {
      "cell_type": "markdown",
      "source": [
        "Encord provides a Dataset abstraction that includes only the raw data, without any annotations. To access both the data and labels, you will need to get a Project, which holds the annotations made on the dataset with a specific Ontology, that houses the declaration of the object and classification classes.\n",
        "\n",
        "To register a Dataset from Encord, you will require the hash of the project and the hash of the multiclass classification (referred to as radio button classification within Encord) you intend to utilize moving forward. With this information, store the dataset definition as a JSON file in the `sources/datasets/` folder at the root of the repository, adhering to this structure:\n",
        "\n",
        "```json\n",
        "{\n",
        "  \"dataset_type\": \"EncordDataset\",\n",
        "  \"title\": \"<title-in-tti-eval>\",\n",
        "  \"project_hash\": \"<target-project-hash>\",\n",
        "  \"classification_hash\": \"<target-classification-hash>\"\n",
        "}\n",
        "```"
      ],
      "metadata": {
        "id": "jCd-z9HCXcGb"
      }
    },
    {
      "cell_type": "markdown",
      "source": [
        "### 1. Find the hash of the Encord Project"
      ],
      "metadata": {
        "id": "LAXS-lOo_x_z"
      }
    },
    {
      "cell_type": "markdown",
      "source": [
        "Open the [Encord app](https://app.encord.com/) and navigate to the target project. The project hash is located below the project title. Please refer to the image for visual guidance.\n",
        "\n",
        "![project-hash-location](https://storage.googleapis.com/docs-media.encord.com/static/img/text-to-image-eval/project-hash-location-encord.png)"
      ],
      "metadata": {
        "id": "YtASZqlO__-A"
      }
    },
    {
      "cell_type": "code",
      "source": [
        "#@markdown Overwrite the project hash with the actual hash\n",
        "project_hash = \"273fb578-6f20-429d-92c6-06a5f5ba5664\""
      ],
      "metadata": {
        "id": "5chSgavOkQpK"
      },
      "execution_count": null,
      "outputs": []
    },
    {
      "cell_type": "markdown",
      "source": [
        "### 2. Find the classification hash within the Ontology"
      ],
      "metadata": {
        "id": "RAaRK70fk6ne"
      }
    },
    {
      "cell_type": "markdown",
      "source": [
        "To view the associated Ontology of the current project, navigate to 'Settings > Ontology settings > Edit Ontology'. In the 'Ontology preview' section, ensure the 'Display JSON' toggle is enabled. You will find the hash of the target classification there. Please refer to the image for visual guidance.\n",
        "\n",
        "![classification-hash-location](https://storage.googleapis.com/docs-media.encord.com/static/img/text-to-image-eval/classification-hash-location-encord.png)"
      ],
      "metadata": {
        "id": "0VAbIErJlCdA"
      }
    },
    {
      "cell_type": "code",
      "source": [
        "#@markdown Overwrite the classification hash with the actual hash\n",
        "classification_hash = \"9rFHnsr5\""
      ],
      "metadata": {
        "id": "vfzUR-fumica"
      },
      "execution_count": null,
      "outputs": []
    },
    {
      "cell_type": "markdown",
      "source": [
        "### 3. Register the dataset to `tti-eval`"
      ],
      "metadata": {
        "id": "Bh7uZjGwpUup"
      }
    },
    {
      "cell_type": "markdown",
      "source": [
        " With the project hash and classification hash at hand, let's include the dataset definition as a JSON file in the `sources/datasets/` folder at the root of the repository, adhering to this structure:\n",
        "\n",
        "```json\n",
        "{\n",
        "  \"dataset_type\": \"EncordDataset\",\n",
        "  \"title\": \"<title-in-tti-eval>\",\n",
        "  \"project_hash\": \"<target-project-hash>\",\n",
        "  \"classification_hash\": \"<target-classification-hash>\"\n",
        "}\n",
        "```"
      ],
      "metadata": {
        "id": "nkDnGcWD1Yux"
      }
    },
    {
      "cell_type": "code",
      "source": [
        "import json\n",
        "from pathlib import Path\n",
        "\n",
        "dataset_definition = {\n",
        "  \"dataset_type\": \"EncordDataset\",\n",
        "  \"title\": \"my-dataset\",\n",
        "  \"project_hash\": project_hash,\n",
        "  \"classification_hash\": classification_hash,\n",
        "}\n",
        "\n",
        "Path('./sources/datasets/my-dataset.json').write_text(json.dumps(dataset_definition, indent=2), encoding=\"utf-8\")"
      ],
      "metadata": {
        "id": "YBJ4leXOxqfP"
      },
      "execution_count": null,
      "outputs": []
    },
    {
      "cell_type": "markdown",
      "source": [
        "Your dataset has now been permanently incorporated into `tti-eval` and is ready to be utilized for any future tasks.\n",
        "\n",
        "> Please note that any dataset operation requires an SSH key associated with an Encord user holding admin privileges for the relevant Encord Project. You can specify the SSH key location directly in the dataset by including the additional field `ssh_key_path` in the dataset definition. In the absence of this field, `tti-eval` will default to using the global `ENCORD_SSH_KEY_PATH` environment variable."
      ],
      "metadata": {
        "id": "nY1MONC512Hn"
      }
    },
    {
      "cell_type": "markdown",
      "source": [
        "### [EXTRA] Test the dataset availability"
      ],
      "metadata": {
        "id": "-673Ryuj1xcz"
      }
    },
    {
      "cell_type": "code",
      "source": [
        "#@title Simple test to check that the dataset is available in the CLI\n",
        "!poetry run tti-eval list --all"
      ],
      "metadata": {
        "colab": {
          "base_uri": "https://localhost:8080/"
        },
        "id": "2MfN9nPg5Hdc",
        "outputId": "af6e38e1-bab9-4754-cf6c-6fbeaad88064"
      },
      "execution_count": null,
      "outputs": [
        {
          "output_type": "stream",
          "name": "stdout",
          "text": [
            "Available datasets are: Alzheimer-MRI, chest-xray-classification, LungCancer4Types, my-dataset, plants, rsicd, skin-cancer, sports-classification\n",
            "Available models are: apple, bioclip, clip, eva-clip, fashion, plip, pubmed, rsicd, rsicd-encord, siglip_large, siglip_small, street, tinyclip, vit-b-32-laion2b\n"
          ]
        }
      ]
    },
    {
      "cell_type": "code",
      "source": [
        "#@markdown Adding the SSH key and its path to an environment variable.\n",
        "#@markdown Required to download and update the dataset.\n",
        "import getpass\n",
        "\n",
        "# Prompt the user to input the value of the SSH key\n",
        "env_value = getpass.getpass(\"Enter the value of the SSH Key: \")\n",
        "\n",
        "key_path = Path('sample_ssh_key')\n",
        "key_path.write_text(env_value, encoding=\"utf-8\")\n",
        "%env ENCORD_SSH_KEY_PATH={key_path.resolve()}"
      ],
      "metadata": {
        "id": "IfItCZIMUKCz",
        "colab": {
          "base_uri": "https://localhost:8080/"
        },
        "outputId": "722129a8-511e-4306-9f0c-bcb624995b0a"
      },
      "execution_count": null,
      "outputs": [
        {
          "output_type": "stream",
          "name": "stdout",
          "text": [
            "Enter the value of the SSH Key: ··········\n",
            "env: ENCORD_SSH_KEY_PATH=/content/text-to-image-eval/sample_ssh_key\n"
          ]
        }
      ]
    },
    {
      "cell_type": "code",
      "source": [
        "#@title Let's use Python to determine the size of the dataset\n",
        "from tti_eval.dataset import DatasetProvider, Split\n",
        "\n",
        "my_dataset = DatasetProvider.get_dataset(\"my-dataset\", split=Split.ALL)\n",
        "len(my_dataset)"
      ],
      "metadata": {
        "colab": {
          "base_uri": "https://localhost:8080/",
          "height": 35,
          "referenced_widgets": [
            "6ee6455e71584d1c8d2f565847edf733",
            "70ee2d9b22cd4e95b4b35d0f1057f5f7",
            "17fe49ed491a48979d2c13cdeb82df2a",
            "c5dd946799ba4ebf969ae376168ef29f",
            "6b221bad33ad49d0ad4b5b5f3262e53d",
            "ebb2a6c25b5f484da057a324d013fa89",
            "a94b16f53b3244b3b85b82fa42659e97",
            "1ad5f8ff3f494c99a1d1691843d27114",
            "1bc025a039d34acea618aeb17c2d4a4d",
            "d2e1b910f8564f9f96140b07ba2970ba",
            "625001f6cc7e4b4bafb3796a25cd4a41"
          ]
        },
        "id": "f-1NE2mgGEcI",
        "outputId": "29df52c5-5224-4e18-e2aa-d642bf730cce"
      },
      "execution_count": null,
      "outputs": [
        {
          "output_type": "display_data",
          "data": {
            "text/plain": [
              "Downloading all data from Encord project `my project`:   0%|          | 0/6 [00:00<?, ?it/s]"
            ],
            "application/vnd.jupyter.widget-view+json": {
              "version_major": 2,
              "version_minor": 0,
              "model_id": "6ee6455e71584d1c8d2f565847edf733"
            }
          },
          "metadata": {}
        },
        {
          "output_type": "execute_result",
          "data": {
            "text/plain": [
              "6"
            ]
          },
          "metadata": {},
          "execution_count": 9
        }
      ]
    },
    {
      "cell_type": "code",
      "source": [
        "#@title Let's display a sample\n",
        "sample = my_dataset[-1]\n",
        "image = sample[\"image\"]\n",
        "image.thumbnail((300,300)) # Scale the image, so it doesn't occupy all the screen\n",
        "display(image)\n",
        "my_dataset.class_names[sample[\"label\"]]"
      ],
      "metadata": {
        "colab": {
          "base_uri": "https://localhost:8080/",
          "height": 335
        },
        "id": "jSie5bpdvoBl",
        "outputId": "16c01cf3-91fc-410d-b326-e822f06e9661"
      },
      "execution_count": null,
      "outputs": [
        {
          "output_type": "display_data",
          "data": {
            "text/plain": [
              "<PIL.JpegImagePlugin.JpegImageFile image mode=RGB size=225x300>"
            ],
            "image/png": "[encoded data removed]",
            "image/jpeg": "[encoded data removed]"
          },
          "metadata": {}
        },
        {
          "output_type": "execute_result",
          "data": {
            "text/plain": [
              "'dog'"
            ],
            "application/vnd.google.colaboratory.intrinsic+json": {
              "type": "string"
            }
          },
          "metadata": {},
          "execution_count": 10
        }
      ]
    },
    {
      "cell_type": "code",
      "source": [
        "#@title Advanced test to build the embeddings of the dataset data\n",
        "#@markdown It's commented as it can take some time and is slower on a CPU configuration.\n",
        "\n",
        "#!poetry run tti-eval build --model-dataset clip/my-dataset"
      ],
      "metadata": {
        "id": "aaqR9TSHyTHO"
      },
      "execution_count": null,
      "outputs": []
    },
    {
      "cell_type": "markdown",
      "source": [
        "## Wrap Up"
      ],
      "metadata": {
        "id": "Zfkd8x58jU5f"
      }
    },
    {
      "cell_type": "markdown",
      "source": [
        "This notebook has provided an introduction to bringing a dataset from Encord to `tti-eval`, showcasing how to find the relevant project and classification hashes, register the dataset definition in `tti-eval`, and start using it right away.\n",
        "\n",
        "---\n",
        "\n",
        "🟣 `tti-eval` is an open-source repository for benchmarking text-to-image models **on your own data**!\n",
        "**Check out the project on [GitHub](https://github.com/encord-team/text-to-image-eval) and leave a star 🌟** if you like it.\n",
        "Contributions are welcome!\n",
        "Please feel free to open an issue or submit a pull request with your suggestions, bug fixes, or new features.\n",
        "\n",
        "---\n",
        "\n",
        "👉 Check out the 📖 [Encord Blog](https://encord.com/blog/) and 📺 [YouTube](https://www.youtube.com/@encord) channel to stay up-to-date with the latest in computer vision, foundation models, active learning, and data-centric AI.\n"
      ],
      "metadata": {
        "id": "boXG9bVBkj6J"
      }
    }
  ]
}
